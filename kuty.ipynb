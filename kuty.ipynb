{
 "cells": [
  {
   "cell_type": "code",
   "execution_count": 14,
   "metadata": {},
   "outputs": [
    {
     "ename": "SyntaxError",
     "evalue": "invalid syntax (<ipython-input-14-2d0c855cf8fc>, line 1)",
     "output_type": "error",
     "traceback": [
      "\u001b[0;36m  File \u001b[0;32m\"<ipython-input-14-2d0c855cf8fc>\"\u001b[0;36m, line \u001b[0;32m1\u001b[0m\n\u001b[0;31m    import utils from parssFile\u001b[0m\n\u001b[0m                    ^\u001b[0m\n\u001b[0;31mSyntaxError\u001b[0m\u001b[0;31m:\u001b[0m invalid syntax\n"
     ]
    }
   ],
   "source": [
    "import utils from parssFile\n",
    "\n",
    "# class parssFile:\n",
    "    \n",
    "#     def __init__(self, filename):\n",
    "#         with open(filename) as f:\n",
    "#             read_data = f.read()\n",
    "#             lines = read_data.split(\"\\n\")\n",
    "#             summary = lines[0].split(\" \")\n",
    "#             print(summary)\n",
    "#             self.__summary = dict({\"row\": int(summary[0]),\n",
    "#                            \"col\": int(summary[1]),\n",
    "#                            \"car\": int(summary[2]),\n",
    "#                            \"rides\": int(summary[3]),\n",
    "#                            \"steps\": int(summary[5])})\n",
    "            \n",
    "\n",
    "#             print(self.__summary)\n",
    "# #             return self.__summary\n",
    "            \n",
    "if __name__ == \"__main__\":\n",
    "    \n",
    "    parssFile('a_example.in')"
   ]
  }
 ],
 "metadata": {
  "kernelspec": {
   "display_name": "Python 3",
   "language": "python",
   "name": "python3"
  },
  "language_info": {
   "codemirror_mode": {
    "name": "ipython",
    "version": 3
   },
   "file_extension": ".py",
   "mimetype": "text/x-python",
   "name": "python",
   "nbconvert_exporter": "python",
   "pygments_lexer": "ipython3",
   "version": "3.5.2"
  }
 },
 "nbformat": 4,
 "nbformat_minor": 2
}
