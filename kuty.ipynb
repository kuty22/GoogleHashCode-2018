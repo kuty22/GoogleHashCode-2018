{
 "cells": [
  {
   "cell_type": "code",
   "execution_count": 1,
   "metadata": {},
   "outputs": [
    {
     "name": "stdout",
     "output_type": "stream",
     "text": [
      "['3', '4', '2', '3', '2', '10']\n",
      "['0', '0', '1', '3', '2', '9']\n",
      "['1', '2', '1', '0', '0', '9']\n",
      "['2', '0', '2', '2', '0', '9']\n",
      "{'row': 3, 'col': 4, 'car': 2, 'steps': 10, 'rides': 3}\n",
      "{'startIntCol': '0', 'endIntRow': '1', 'endIntCol': '3', 'latest': '9', 'startIntRow': '0', 'earliest': '2'}\n",
      "{'startIntCol': '2', 'endIntRow': '1', 'endIntCol': '0', 'latest': '9', 'startIntRow': '1', 'earliest': '0'}\n",
      "{'startIntCol': '0', 'endIntRow': '2', 'endIntCol': '2', 'latest': '9', 'startIntRow': '2', 'earliest': '0'}\n"
     ]
    },
    {
     "ename": "AttributeError",
     "evalue": "'Rides' object has no attribute '_Rides__conf'",
     "output_type": "error",
     "traceback": [
      "\u001b[0;31m---------------------------------------------------------------------------\u001b[0m",
      "\u001b[0;31mAttributeError\u001b[0m                            Traceback (most recent call last)",
      "\u001b[0;32m<ipython-input-1-0740f03787b9>\u001b[0m in \u001b[0;36m<module>\u001b[0;34m()\u001b[0m\n\u001b[1;32m      9\u001b[0m     \u001b[0mr\u001b[0m \u001b[0;34m=\u001b[0m \u001b[0mtoto\u001b[0m\u001b[0;34m.\u001b[0m\u001b[0mget_rides\u001b[0m\u001b[0;34m(\u001b[0m\u001b[0;34m)\u001b[0m\u001b[0;34m\u001b[0m\u001b[0m\n\u001b[1;32m     10\u001b[0m     \u001b[0;32mfor\u001b[0m \u001b[0mride\u001b[0m \u001b[0;32min\u001b[0m \u001b[0mr\u001b[0m\u001b[0;34m:\u001b[0m\u001b[0;34m\u001b[0m\u001b[0m\n\u001b[0;32m---> 11\u001b[0;31m         \u001b[0mprint\u001b[0m\u001b[0;34m(\u001b[0m\u001b[0mride\u001b[0m\u001b[0;34m.\u001b[0m\u001b[0mget_information\u001b[0m\u001b[0;34m(\u001b[0m\u001b[0;34m)\u001b[0m\u001b[0;34m)\u001b[0m\u001b[0;34m\u001b[0m\u001b[0m\n\u001b[0m",
      "\u001b[0;32m/Users/kuty/Professional-ALQ/quentin/fun/GoogleHashCode-2018/utils/__init__.py\u001b[0m in \u001b[0;36mget_information\u001b[0;34m(self)\u001b[0m\n\u001b[1;32m     14\u001b[0m \u001b[0;34m\u001b[0m\u001b[0m\n\u001b[1;32m     15\u001b[0m     \u001b[0;32mdef\u001b[0m \u001b[0mget_information\u001b[0m\u001b[0;34m(\u001b[0m\u001b[0mself\u001b[0m\u001b[0;34m)\u001b[0m\u001b[0;34m:\u001b[0m\u001b[0;34m\u001b[0m\u001b[0m\n\u001b[0;32m---> 16\u001b[0;31m         \u001b[0;32mreturn\u001b[0m \u001b[0mself\u001b[0m\u001b[0;34m.\u001b[0m\u001b[0m__conf\u001b[0m\u001b[0;34m\u001b[0m\u001b[0m\n\u001b[0m\u001b[1;32m     17\u001b[0m \u001b[0;34m\u001b[0m\u001b[0m\n\u001b[1;32m     18\u001b[0m \u001b[0;34m\u001b[0m\u001b[0m\n",
      "\u001b[0;31mAttributeError\u001b[0m: 'Rides' object has no attribute '_Rides__conf'"
     ]
    }
   ],
   "source": [
    "from utils import parssFile\n",
    "\n",
    "\n",
    "if __name__ == \"__main__\":\n",
    "    \n",
    "    toto = parssFile('a_example.in')\n",
    "    t = toto.get_summary()\n",
    "    print(t)\n",
    "    r = toto.get_rides()\n",
    "    for ride in r:\n",
    "        print(ride.get_information())"
   ]
  }
 ],
 "metadata": {
  "kernelspec": {
   "display_name": "Python 3",
   "language": "python",
   "name": "python3"
  },
  "language_info": {
   "codemirror_mode": {
    "name": "ipython",
    "version": 3
   },
   "file_extension": ".py",
   "mimetype": "text/x-python",
   "name": "python",
   "nbconvert_exporter": "python",
   "pygments_lexer": "ipython3",
   "version": "3.5.2"
  }
 },
 "nbformat": 4,
 "nbformat_minor": 2
}
