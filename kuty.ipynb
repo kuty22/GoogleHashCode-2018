{
 "cells": [
  {
   "cell_type": "code",
   "execution_count": 5,
   "metadata": {},
   "outputs": [
    {
     "name": "stdout",
     "output_type": "stream",
     "text": [
      "['3', '4', '2', '3', '2', '10']\n",
      "['0', '0', '1', '3', '2', '9']\n",
      "['1', '2', '1', '0', '0', '9']\n",
      "['2', '0', '2', '2', '0', '9']\n",
      "{'rides': 3, 'car': 2, 'row': 3, 'col': 4, 'steps': 10}\n",
      "{'startIntRow': '0', 'latest': '9', 'startIntCol': '0', 'earliest': '2', 'endIntCol': '3', 'endIntRow': '1'}\n",
      "{'startIntRow': '1', 'latest': '9', 'startIntCol': '2', 'earliest': '0', 'endIntCol': '0', 'endIntRow': '1'}\n",
      "{'startIntRow': '2', 'latest': '9', 'startIntCol': '0', 'earliest': '0', 'endIntCol': '2', 'endIntRow': '2'}\n",
      "{'y': 0, 'x': 0}\n",
      "{'y': 0, 'x': 0}\n"
     ]
    }
   ],
   "source": [
    "from utils import parssFile\n",
    "\n",
    "\n",
    "if __name__ == \"__main__\":\n",
    "    \n",
    "    toto = parssFile('a_example.in')\n",
    "    t = toto.get_summary()\n",
    "    print(t)\n",
    "    r = toto.get_rides()\n",
    "    for ride in r:\n",
    "        print(ride.get_information())\n",
    "        \n",
    "    c = toto.get_cars()\n",
    "    for car in c:\n",
    "        print(car.get_position())"
   ]
  },
  {
   "cell_type": "code",
   "execution_count": 3,
   "metadata": {},
   "outputs": [
    {
     "name": "stdout",
     "output_type": "stream",
     "text": [
      "0\n",
      "1\n",
      "2\n",
      "3\n",
      "4\n",
      "5\n",
      "6\n",
      "7\n",
      "8\n",
      "9\n",
      "{'endIntCol': '3', 'endIntRow': '1', 'earliest': '2', 'latest': '9', 'startIntRow': '0', 'startIntCol': '0'}\n",
      "{'endIntCol': '0', 'endIntRow': '1', 'earliest': '0', 'latest': '9', 'startIntRow': '1', 'startIntCol': '2'}\n",
      "{'endIntCol': '2', 'endIntRow': '2', 'earliest': '0', 'latest': '9', 'startIntRow': '2', 'startIntCol': '0'}\n",
      "{'y': 0, 'x': 0}\n",
      "{'y': 0, 'x': 0}\n"
     ]
    }
   ],
   "source": [
    "from utils import parssFile\n",
    "\n",
    "\n",
    "if __name__ == \"__main__\":\n",
    "    \n",
    "    toto = parssFile('a_example.in')\n",
    "    t = toto.get_summary()\n",
    "    for t in range(t[\"steps\"]):\n",
    "        \n",
    "        \n",
    "        print(t)\n",
    "#     print(t)\n",
    "    r = toto.get_rides()\n",
    "    for ride in r:\n",
    "        print(ride.get_information())\n",
    "        \n",
    "    c = toto.get_cars()\n",
    "    for car in c:\n",
    "        print(car.get_position())"
   ]
  }
 ],
 "metadata": {
  "kernelspec": {
   "display_name": "Python 3",
   "language": "python",
   "name": "python3"
  },
  "language_info": {
   "codemirror_mode": {
    "name": "ipython",
    "version": 3
   },
   "file_extension": ".py",
   "mimetype": "text/x-python",
   "name": "python",
   "nbconvert_exporter": "python",
   "pygments_lexer": "ipython3",
   "version": "3.5.2"
  }
 },
 "nbformat": 4,
 "nbformat_minor": 2
}
